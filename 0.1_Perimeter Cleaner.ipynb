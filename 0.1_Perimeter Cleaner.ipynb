{
 "cells": [
  {
   "cell_type": "markdown",
   "metadata": {},
   "source": [
    "Where there are two or more perimeters for the same day, the perimeter cleaner combines them using a logical OR."
   ]
  },
  {
   "cell_type": "code",
   "execution_count": 1,
   "metadata": {},
   "outputs": [],
   "source": [
    "import numpy as np\n",
    "import os\n",
    "import pickle\n",
    "from collections import defaultdict\n",
    "import pyprind\n",
    "\n",
    "import matplotlib.pyplot as plt"
   ]
  },
  {
   "cell_type": "code",
   "execution_count": 2,
   "metadata": {},
   "outputs": [
    {
     "data": {
      "text/plain": [
       "['ID-PAF-G70E 2012-09-18 20.pkl',\n",
       " 'WY-BHF-G7BW 2012-09-04 19.pkl',\n",
       " 'NM-LNF-GW6A 2012-06-14 24.pkl',\n",
       " 'NE-NES-G7A5 2012-08-29 22.pkl',\n",
       " 'CO-ARF-GUQ9 2012-05-16 6.pkl',\n",
       " 'MT-EAS-G4GD 2012-08-11 0.pkl',\n",
       " 'CA-SHF-G1YE 2012-07-13 8.pkl',\n",
       " 'MT-LCF-G37C 2012-07-31 35.pkl',\n",
       " 'WA-OWF-G70S 2012-09-24 241.pkl',\n",
       " 'CA-MEU-G7X0 2012-09-12 1.pkl']"
      ]
     },
     "execution_count": 2,
     "metadata": {},
     "output_type": "execute_result"
    }
   ],
   "source": []
  },
  {
   "cell_type": "code",
   "execution_count": 3,
   "metadata": {},
   "outputs": [],
   "source": [
    "def filename_map(files):\n",
    "    fn_map = defaultdict(list)\n",
    "    for file in files:\n",
    "        components = file.split(' ')\n",
    "        fn_map[components[0]+' '+components[1]].append(file)\n",
    "        \n",
    "    return(fn_map)"
   ]
  },
  {
   "cell_type": "code",
   "execution_count": 4,
   "metadata": {},
   "outputs": [],
   "source": [
    "perims =  os.listdir('perims/dirty')\n",
    "\n",
    "fn_map = filename_map(perims)"
   ]
  },
  {
   "cell_type": "code",
   "execution_count": 8,
   "metadata": {},
   "outputs": [
    {
     "name": "stderr",
     "output_type": "stream",
     "text": [
      "0% [##############################] 100% | ETA: 00:00:00\n",
      "Total time elapsed: 00:03:53\n"
     ]
    }
   ],
   "source": [
    "errors = []\n",
    "\n",
    "progbar = pyprind.ProgBar(len(fn_map))\n",
    "\n",
    "for firedate in fn_map:\n",
    "    files = fn_map[firedate]\n",
    "    try:\n",
    "        op = open('perims/dirty/'+files[0], 'rb')\n",
    "        f = pickle.load(op)\n",
    "        r = f['raster']\n",
    "        op.close()\n",
    "\n",
    "        for file in files:\n",
    "            op = open('perims/dirty/'+file, 'rb')\n",
    "            r2 = pickle.load(op)['raster']\n",
    "            op.close()\n",
    "            r = np.logical_or(r, r2, dtype=np.int8)\n",
    "\n",
    "        f['raster'] = r\n",
    "\n",
    "        op = open('perims/clean/'+firedate+'.pkl', 'wb')\n",
    "        pickle.dump(f, op)\n",
    "        op.close()\n",
    "    except:\n",
    "        errors.append(files)\n",
    "        pass\n",
    "    progbar.update()"
   ]
  },
  {
   "cell_type": "code",
   "execution_count": null,
   "metadata": {},
   "outputs": [],
   "source": []
  }
 ],
 "metadata": {
  "kernelspec": {
   "display_name": "Python 3",
   "language": "python",
   "name": "python3"
  },
  "language_info": {
   "codemirror_mode": {
    "name": "ipython",
    "version": 3
   },
   "file_extension": ".py",
   "mimetype": "text/x-python",
   "name": "python",
   "nbconvert_exporter": "python",
   "pygments_lexer": "ipython3",
   "version": "3.7.0"
  }
 },
 "nbformat": 4,
 "nbformat_minor": 2
}
