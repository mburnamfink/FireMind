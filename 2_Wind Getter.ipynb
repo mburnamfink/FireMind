{
 "cells": [
  {
   "cell_type": "markdown",
   "metadata": {},
   "source": [
    "NREL WIND is a federal database containing extremely detailed weather data for 2007-2012 accessible through a HSDS API.\n",
    "https://developer.nrel.gov/docs/wind/wind-toolkit/"
   ]
  },
  {
   "cell_type": "code",
   "execution_count": 1,
   "metadata": {},
   "outputs": [],
   "source": [
    "%matplotlib inline\n",
    "import h5pyd\n",
    "import numpy as np\n",
    "import pandas as pd\n",
    "import matplotlib.pyplot as plt\n",
    "import matplotlib.image as mpimg\n",
    "import pyproj\n",
    "from pyproj import Proj\n",
    "import dateutil\n",
    "import pymongo as pm\n",
    "import pyprind\n",
    "import gridfs\n",
    "import json\n",
    "import pickle\n",
    "import geopandas as gpd\n",
    "import os"
   ]
  },
  {
   "cell_type": "code",
   "execution_count": 32,
   "metadata": {},
   "outputs": [
    {
     "data": {
      "text/plain": [
       "{'greeting': 'Welcome to HSDS!',\n",
       " 'about': 'HSDS is a webservice for HSDS data',\n",
       " 'name': 'NREL Highly Scalable Data Service (HSDS)',\n",
       " 'start_time': 1534185577,\n",
       " 'hsds_version': '0.1',\n",
       " 'state': 'READY',\n",
       " 'endpoint': 'https://developer.nrel.gov/api/hsds/',\n",
       " 'username': 'None',\n",
       " 'password': '****'}"
      ]
     },
     "execution_count": 32,
     "metadata": {},
     "output_type": "execute_result"
    }
   ],
   "source": [
    "h5pyd.getServerInfo()\n",
    "\n",
    "h5pyd.Config()\n",
    "\n",
    "f = h5pyd.File(\"/nrel/wtk-us.h5\", 'r')"
   ]
  },
  {
   "cell_type": "code",
   "execution_count": 6,
   "metadata": {},
   "outputs": [],
   "source": [
    "#load our datasets\n",
    "\n",
    "windspeed = f['windspeed_10m']\n",
    "winddirection = f['winddirection_10m']\n",
    "precipitation = f['precipitationrate_0m'] \n",
    "relative_humidity = f['relativehumidity_2m']\n",
    "temp = f['temperature_2m']\n",
    "dt = f[\"datetime\"]\n",
    "dt = pd.DataFrame({\"datetime\": dt[:]},index=range(0,dt.shape[0]))\n",
    "dt['datetime'] = dt['datetime'].apply(dateutil.parser.parse)"
   ]
  },
  {
   "cell_type": "code",
   "execution_count": 7,
   "metadata": {},
   "outputs": [
    {
     "data": {
      "text/html": [
       "<div>\n",
       "<style scoped>\n",
       "    .dataframe tbody tr th:only-of-type {\n",
       "        vertical-align: middle;\n",
       "    }\n",
       "\n",
       "    .dataframe tbody tr th {\n",
       "        vertical-align: top;\n",
       "    }\n",
       "\n",
       "    .dataframe thead th {\n",
       "        text-align: right;\n",
       "    }\n",
       "</style>\n",
       "<table border=\"1\" class=\"dataframe\">\n",
       "  <thead>\n",
       "    <tr style=\"text-align: right;\">\n",
       "      <th></th>\n",
       "      <th>datetime</th>\n",
       "    </tr>\n",
       "  </thead>\n",
       "  <tbody>\n",
       "    <tr>\n",
       "      <th>61363</th>\n",
       "      <td>2013-12-31 19:00:00</td>\n",
       "    </tr>\n",
       "    <tr>\n",
       "      <th>61364</th>\n",
       "      <td>2013-12-31 20:00:00</td>\n",
       "    </tr>\n",
       "    <tr>\n",
       "      <th>61365</th>\n",
       "      <td>2013-12-31 21:00:00</td>\n",
       "    </tr>\n",
       "    <tr>\n",
       "      <th>61366</th>\n",
       "      <td>2013-12-31 22:00:00</td>\n",
       "    </tr>\n",
       "    <tr>\n",
       "      <th>61367</th>\n",
       "      <td>2013-12-31 23:00:00</td>\n",
       "    </tr>\n",
       "  </tbody>\n",
       "</table>\n",
       "</div>"
      ],
      "text/plain": [
       "                 datetime\n",
       "61363 2013-12-31 19:00:00\n",
       "61364 2013-12-31 20:00:00\n",
       "61365 2013-12-31 21:00:00\n",
       "61366 2013-12-31 22:00:00\n",
       "61367 2013-12-31 23:00:00"
      ]
     },
     "execution_count": 7,
     "metadata": {},
     "output_type": "execute_result"
    }
   ],
   "source": [
    "dt.tail()"
   ]
  },
  {
   "cell_type": "code",
   "execution_count": 8,
   "metadata": {},
   "outputs": [
    {
     "data": {
      "text/plain": [
       "Int64Index([43824, 43825, 43826, 43827, 43828, 43829, 43830, 43831, 43832,\n",
       "            43833,\n",
       "            ...\n",
       "            52598, 52599, 52600, 52601, 52602, 52603, 52604, 52605, 52606,\n",
       "            52607],\n",
       "           dtype='int64', length=8784)"
      ]
     },
     "execution_count": 8,
     "metadata": {},
     "output_type": "execute_result"
    }
   ],
   "source": [
    "twentytwelve = dt.loc[(dt.datetime >= '2012-01-01') & (dt.datetime < '2013-01-01')].index\n",
    "twentytwelve"
   ]
  },
  {
   "cell_type": "code",
   "execution_count": 9,
   "metadata": {},
   "outputs": [
    {
     "data": {
      "text/plain": [
       "46020"
      ]
     },
     "execution_count": 9,
     "metadata": {},
     "output_type": "execute_result"
    }
   ],
   "source": [
    "timestep = dt.loc[dt.datetime == '2012-04-01 12:00:00'].index[0]\n",
    "timestep"
   ]
  },
  {
   "cell_type": "markdown",
   "metadata": {},
   "source": [
    "NREL functions for going from lat-lon to WIND internal coordinates, which are 1 km squares."
   ]
  },
  {
   "cell_type": "code",
   "execution_count": 10,
   "metadata": {},
   "outputs": [],
   "source": [
    "def indicesForCoord(f, lat_index, lon_index):\n",
    "    dset_coords = f['coordinates']\n",
    "    projstring = \"\"\"+proj=lcc +lat_1=30 +lat_2=60 \n",
    "                    +lat_0=38.47240422490422 +lon_0=-96.0 \n",
    "                    +x_0=0 +y_0=0 +ellps=sphere \n",
    "                    +units=m +no_defs \"\"\"\n",
    "    projectLcc = Proj(projstring)\n",
    "    origin_ll = reversed(dset_coords[0][0])  # Grab origin directly from database\n",
    "    origin = projectLcc(*origin_ll)\n",
    "    \n",
    "    coords = (lon_index,lat_index)\n",
    "    coords = projectLcc(*coords)\n",
    "    delta = np.subtract(coords, origin)\n",
    "    ij = [int(round(x/2000)) for x in delta]\n",
    "    return tuple(reversed(ij))\n",
    "\n",
    "def indicesForBBox(f, lat_range, lon_range):\n",
    "    xmin = None\n",
    "    xmax = None\n",
    "    ymin = None\n",
    "    ymax = None\n",
    "    for i in [0,1]:\n",
    "        for j in [0,1]:\n",
    "            yx = indicesForCoord(f,lat_range[i],lon_range[j])\n",
    "            if xmin is None or yx[1] < xmin:\n",
    "                xmin = yx[1]\n",
    "            if xmax is None or yx[1] > xmax:\n",
    "                xmax = yx[1]\n",
    "            if ymin is None or yx[0] < ymin:\n",
    "                ymin = yx[0]\n",
    "            if ymax is None or yx[0] > ymax:\n",
    "                ymax = yx[0]\n",
    "            if xmin == xmax:\n",
    "                xmax += 1\n",
    "            if ymin == ymax:\n",
    "                ymax +=1\n",
    "    return ([xmin,xmax],[ymin,ymax])"
   ]
  },
  {
   "cell_type": "code",
   "execution_count": 15,
   "metadata": {},
   "outputs": [
    {
     "data": {
      "text/html": [
       "<div>\n",
       "<style scoped>\n",
       "    .dataframe tbody tr th:only-of-type {\n",
       "        vertical-align: middle;\n",
       "    }\n",
       "\n",
       "    .dataframe tbody tr th {\n",
       "        vertical-align: top;\n",
       "    }\n",
       "\n",
       "    .dataframe thead th {\n",
       "        text-align: right;\n",
       "    }\n",
       "</style>\n",
       "<table border=\"1\" class=\"dataframe\">\n",
       "  <thead>\n",
       "    <tr style=\"text-align: right;\">\n",
       "      <th></th>\n",
       "      <th>fire_id</th>\n",
       "      <th>left</th>\n",
       "      <th>right</th>\n",
       "      <th>top</th>\n",
       "      <th>bottom</th>\n",
       "      <th>x</th>\n",
       "      <th>y</th>\n",
       "      <th>a</th>\n",
       "    </tr>\n",
       "  </thead>\n",
       "  <tbody>\n",
       "    <tr>\n",
       "      <th>2</th>\n",
       "      <td>ID-SCF-G4A0</td>\n",
       "      <td>-1635840.0</td>\n",
       "      <td>-1390080.0</td>\n",
       "      <td>2711040.0</td>\n",
       "      <td>2257920.0</td>\n",
       "      <td>8192.0</td>\n",
       "      <td>15104.0</td>\n",
       "      <td>1.113588e+11</td>\n",
       "    </tr>\n",
       "    <tr>\n",
       "      <th>0</th>\n",
       "      <td>WA-OWF-G70S</td>\n",
       "      <td>-1912320.0</td>\n",
       "      <td>-1712640.0</td>\n",
       "      <td>3064320.0</td>\n",
       "      <td>2872320.0</td>\n",
       "      <td>6656.0</td>\n",
       "      <td>6400.0</td>\n",
       "      <td>3.833856e+10</td>\n",
       "    </tr>\n",
       "    <tr>\n",
       "      <th>26</th>\n",
       "      <td>VA-VAF-GR0U</td>\n",
       "      <td>1359360.0</td>\n",
       "      <td>1505280.0</td>\n",
       "      <td>1904640.0</td>\n",
       "      <td>1720320.0</td>\n",
       "      <td>4864.0</td>\n",
       "      <td>6144.0</td>\n",
       "      <td>2.689597e+10</td>\n",
       "    </tr>\n",
       "    <tr>\n",
       "      <th>7</th>\n",
       "      <td>MN-MNS-G85U</td>\n",
       "      <td>-76800.0</td>\n",
       "      <td>76800.0</td>\n",
       "      <td>2895360.0</td>\n",
       "      <td>2764800.0</td>\n",
       "      <td>5120.0</td>\n",
       "      <td>4352.0</td>\n",
       "      <td>2.005402e+10</td>\n",
       "    </tr>\n",
       "    <tr>\n",
       "      <th>64</th>\n",
       "      <td>MT-MCD-G0QM</td>\n",
       "      <td>-867840.0</td>\n",
       "      <td>-760320.0</td>\n",
       "      <td>2603520.0</td>\n",
       "      <td>2488320.0</td>\n",
       "      <td>3584.0</td>\n",
       "      <td>3840.0</td>\n",
       "      <td>1.238630e+10</td>\n",
       "    </tr>\n",
       "  </tbody>\n",
       "</table>\n",
       "</div>"
      ],
      "text/plain": [
       "        fire_id       left      right        top     bottom       x        y  \\\n",
       "2   ID-SCF-G4A0 -1635840.0 -1390080.0  2711040.0  2257920.0  8192.0  15104.0   \n",
       "0   WA-OWF-G70S -1912320.0 -1712640.0  3064320.0  2872320.0  6656.0   6400.0   \n",
       "26  VA-VAF-GR0U  1359360.0  1505280.0  1904640.0  1720320.0  4864.0   6144.0   \n",
       "7   MN-MNS-G85U   -76800.0    76800.0  2895360.0  2764800.0  5120.0   4352.0   \n",
       "64  MT-MCD-G0QM  -867840.0  -760320.0  2603520.0  2488320.0  3584.0   3840.0   \n",
       "\n",
       "               a  \n",
       "2   1.113588e+11  \n",
       "0   3.833856e+10  \n",
       "26  2.689597e+10  \n",
       "7   2.005402e+10  \n",
       "64  1.238630e+10  "
      ]
     },
     "execution_count": 15,
     "metadata": {},
     "output_type": "execute_result"
    }
   ],
   "source": [
    "df = pickle.load(open('2012_fire_bounds.pkl', 'rb'))\n",
    "df.head()"
   ]
  },
  {
   "cell_type": "code",
   "execution_count": 17,
   "metadata": {},
   "outputs": [
    {
     "name": "stdout",
     "output_type": "stream",
     "text": [
      "-1635840.0 2711040.0\n",
      "-117.18020922476201 45.73998841207507\n"
     ]
    }
   ],
   "source": [
    "epsg5070 = pyproj.Proj(\"+init=epsg:5070\")\n",
    "epsg4269 = pyproj.Proj(\"+init=epsg:4269\")"
   ]
  },
  {
   "cell_type": "markdown",
   "metadata": {},
   "source": [
    "NREL WIND only allows 500 requests an hour, so this takes two sets of requests to run.  We iterate through the unique fires database, check against the `done` set, and then dump to a pickle file."
   ]
  },
  {
   "cell_type": "code",
   "execution_count": null,
   "metadata": {},
   "outputs": [],
   "source": [
    "unique_fires =  set(df.fire_id.unique())\n",
    "print(len(unique_fires))\n",
    "\n",
    "done =  set(os.listdir('wind'))\n",
    "    \n",
    "unique_fires = unique_fires-done\n",
    "\n",
    "print(len(unique_fires))"
   ]
  },
  {
   "cell_type": "code",
   "execution_count": 77,
   "metadata": {},
   "outputs": [
    {
     "name": "stdout",
     "output_type": "stream",
     "text": [
      "CA-NOD-G4Z9\n",
      "OR-BUD-G1G1\n",
      "UT-SCS-GZT8\n",
      "WA-SPD-G70Y\n",
      "MT-CRA-G4MJ\n",
      "NE-NES-G3HX\n",
      "ID-NPF-000368\n",
      "ID-CWF-G41C\n",
      "ID-BOF-G4QD\n",
      "NE-NES-G7A5\n",
      "MT-NCA-GY9W\n",
      "NV-EKD-G5LM\n",
      "ID-NPF-G42D\n",
      "CA-NOD-G5Z8\n",
      "ID-SCF-G34R\n",
      "NM-GNF-GU3S\n",
      "OR-VAD-G1HG\n",
      "ID-CWF-G69S\n",
      "NV-WID-G4ZC\n",
      "ID-STF-G5DR\n",
      "MT-EAS-G4GD\n",
      "WA-OWF-G72P\n",
      "MT-MCD-G0QM\n",
      "MN-MNS-G85U\n",
      "VA-VAF-GR0U\n",
      "WA-OWF-G70S\n",
      "ID-SCF-G4A0\n"
     ]
    }
   ],
   "source": [
    "\n",
    "\n",
    "a= [x for x in np.arange(len(df)-1, -1, -1)]\n",
    "\n",
    "for k in a:\n",
    "    fire = df.iloc[k] #this is not the preferred way to access a df, but it works\n",
    "    \n",
    "    fire_id = fire.fire_id\n",
    "    \n",
    "    done = os.listdir('wind')\n",
    "    if fire_id +' wind.pkl' not in done:\n",
    "\n",
    "        lon1=df.iloc[k,1]\n",
    "        lat1=df.iloc[k,3]\n",
    "\n",
    "        lon2 = df.iloc[k,2]\n",
    "        lat2 = df.iloc[k,4]\n",
    "\n",
    "        xs = []\n",
    "        ys = []\n",
    "\n",
    "        x,y = pyproj.transform(epsg5070, epsg4269, lon1, lat1)\n",
    "        xs.append(x)\n",
    "        ys.append(y)\n",
    "        x,y = pyproj.transform(epsg5070, epsg4269, lon1, lat2)\n",
    "        xs.append(x)\n",
    "        ys.append(y)\n",
    "        x,y = pyproj.transform(epsg5070, epsg4269, lon2, lat1)\n",
    "        xs.append(x)\n",
    "        ys.append(y)\n",
    "        x,y = pyproj.transform(epsg5070, epsg4269, lon2, lat2)\n",
    "        xs.append(x)\n",
    "        ys.append(y)\n",
    "\n",
    "        bounds = [min(ys), max(ys), min(xs), max(xs)]\n",
    "\n",
    "        x_range, y_range =indicesForBBox(f, (bounds[0], bounds[1]), (bounds[2], bounds[3]))\n",
    "\n",
    "        fire_dates =  df2[df2.uniquefire==fire_id]    \n",
    "        enddate =  fire_dates.iloc[0].date\n",
    "        startdate = fire_dates.iloc[-1].date\n",
    "\n",
    "        (startdate, enddate)\n",
    "\n",
    "        t0 = dt.loc[dt.datetime == startdate].index[0]-100\n",
    "        tf = dt.loc[dt.datetime == enddate].index[0]\n",
    "\n",
    "        local_ws = windspeed[t0:tf, y_range[0]:y_range[1], x_range[0]: x_range[1]]\n",
    "\n",
    "        local_wd = winddirection[t0:tf, y_range[0]:y_range[1], x_range[0]: x_range[1]]\n",
    "\n",
    "        local_precip = precipitation[t0:tf, y_range[0]:y_range[1], x_range[0]: x_range[1]]\n",
    "\n",
    "        local_humidity = relative_humidity[t0:tf, y_range[0]:y_range[1], x_range[0]: x_range[1]]\n",
    "\n",
    "        local_temp = temp[t0:tf, y_range[0]:y_range[1], x_range[0]: x_range[1]]\n",
    "\n",
    "        shape = local_ws.shape\n",
    "\n",
    "        data = {\n",
    "                'fire_id':fire_id,\n",
    "                'startdate': startdate,\n",
    "                'enddate': enddate,\n",
    "                'shape':  shape,\n",
    "                'bounds' : bounds,\n",
    "                'windspeed' : local_ws,\n",
    "                'winddirection' : local_wd,\n",
    "                'precipitation': local_precip,\n",
    "                'humidity' : local_humidity,\n",
    "                'temperature' : local_temp\n",
    "                }\n",
    "\n",
    "        outfile = open('wind/'+ fire_id +' wind.pkl','wb')\n",
    "        pickle.dump(data,outfile)\n",
    "        outfile.close()"
   ]
  }
 ],
 "metadata": {
  "kernelspec": {
   "display_name": "Python 3",
   "language": "python",
   "name": "python3"
  },
  "language_info": {
   "codemirror_mode": {
    "name": "ipython",
    "version": 3
   },
   "file_extension": ".py",
   "mimetype": "text/x-python",
   "name": "python",
   "nbconvert_exporter": "python",
   "pygments_lexer": "ipython3",
   "version": "3.7.0"
  }
 },
 "nbformat": 4,
 "nbformat_minor": 2
}
